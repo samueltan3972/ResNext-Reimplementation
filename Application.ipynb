{
 "cells": [
  {
   "cell_type": "code",
   "execution_count": 2,
   "metadata": {
    "id": "f3Pq_W2sI8m2"
   },
   "outputs": [],
   "source": [
    "# from google.colab import drive\n",
    "# drive.mount('/content/drive')"
   ]
  },
  {
   "cell_type": "code",
   "execution_count": 3,
   "metadata": {
    "id": "VtrwwLbFI-pT"
   },
   "outputs": [],
   "source": [
    "# cd \"/content/drive/MyDrive/\""
   ]
  },
  {
   "cell_type": "markdown",
   "metadata": {},
   "source": [
    "**Helper Function**"
   ]
  },
  {
   "cell_type": "code",
   "execution_count": 2,
   "metadata": {
    "id": "PkoDnnUqyUtp"
   },
   "outputs": [],
   "source": [
    "import numpy as np\n",
    "import matplotlib.pyplot as plt\n",
    "import os\n",
    "\n",
    "import torch, torchvision\n",
    "import torch.nn as nn\n",
    "import torch.nn.functional as F\n",
    "\n",
    "import torch.optim as optim\n",
    "import torchvision.transforms as transforms\n",
    "from torch.utils.data import DataLoader\n",
    "from torch.optim import lr_scheduler\n",
    "from PIL import Image\n",
    "\n",
    "import math\n",
    "import json"
   ]
  },
  {
   "cell_type": "code",
   "execution_count": 3,
   "metadata": {
    "id": "VrKupVW8DPE4"
   },
   "outputs": [],
   "source": [
    "def load_model(model, dataset_desc, epoch_num):\n",
    "  path = './models/' + dataset_desc + '/' + dataset_desc + '_model_epoch_' + str(epoch_num).zfill(5) + '.pt'\n",
    "\n",
    "  # check if the file exists\n",
    "  if not os.path.exists(path):\n",
    "    print(\"Incorrect filename\")  \n",
    "    return \n",
    "\n",
    "  # load the checkpoint file\n",
    "  try: \n",
    "    checkpoint = torch.load(path)      \n",
    "    model.load_state_dict(checkpoint['model_state_dict'])\n",
    "  except: \n",
    "    print(\"Error in loading model\")    "
   ]
  },
  {
   "cell_type": "code",
   "execution_count": 4,
   "metadata": {
    "id": "779dSQ1uDfxc"
   },
   "outputs": [],
   "source": [
    "def load_stat(dataset_desc):\n",
    "  accuracy_stats = {\n",
    "      'train': [],\n",
    "      \"val\": []\n",
    "  }\n",
    "\n",
    "  loss_stats = {\n",
    "      'train': [],\n",
    "      \"val\": []\n",
    "  }\n",
    "\n",
    "  # load the savedModel stat file\n",
    "  stat_file_name = './models/' + dataset_desc + '/' + dataset_desc + '_stat.json'\n",
    "  \n",
    "  if os.path.isfile(stat_file_name):\n",
    "    with open(stat_file_name, 'r') as f:\n",
    "      try:\n",
    "        model_stats = json.load(f)\n",
    "        accuracy_stats = model_stats[\"accuracy\"]\n",
    "        loss_stats = model_stats[\"loss\"]\n",
    "      except:\n",
    "        print(\"Error in loading model stat\") \n",
    "\n",
    "  return accuracy_stats, loss_stats"
   ]
  },
  {
   "cell_type": "code",
   "execution_count": 5,
   "metadata": {
    "cellView": "form",
    "id": "5vg-P0KyF6gs"
   },
   "outputs": [],
   "source": [
    "# ResNext Reimplemented Model\n",
    "def conv1x1(input, output, stride=1):\n",
    "  return nn.Conv2d(input, output, kernel_size=1, stride=stride, bias=False)\n",
    "\n",
    "def conv3x3(input, output, groups=1, padding=0, stride=1):\n",
    "  return nn.Conv2d(input, output, kernel_size=3, groups=groups, padding=padding, stride=stride, bias=False)\n",
    "\n",
    "class Bottleneck(nn.Module):\n",
    "  def __init__(self, in_channel, mid_channel, out_channel, stride=1, downsample = None):\n",
    "    super().__init__()\n",
    "\n",
    "    self.conv1 = conv1x1(in_channel, mid_channel)\n",
    "    self.bn1 = nn.BatchNorm2d(mid_channel)\n",
    "    self.conv2 = conv3x3(mid_channel, mid_channel, groups=32, padding=1, stride=stride)\n",
    "    self.bn2 = nn.BatchNorm2d(mid_channel)\n",
    "    self.conv3 = conv1x1(mid_channel, out_channel)\n",
    "    self.bn3 = nn.BatchNorm2d(out_channel)\n",
    "    self.relu = nn.ReLU(inplace=True)\n",
    "    self.downsample = downsample\n",
    "\n",
    "  def forward(self, x):\n",
    "    identity = x\n",
    "\n",
    "    out = self.conv1(x)\n",
    "    out = self.bn1(out)\n",
    "    out = self.relu(out)\n",
    "\n",
    "    out = self.conv2(out)\n",
    "    out = self.bn2(out)\n",
    "    out = self.relu(out)\n",
    "\n",
    "    out = self.conv3(out)\n",
    "    out = self.bn3(out)\n",
    "\n",
    "    if self.downsample is not None:\n",
    "      identity = self.downsample(x)\n",
    "\n",
    "    out += identity  # skip connection\n",
    "    out = self.relu(out)\n",
    "\n",
    "    return out\n",
    "\n",
    "# Resnext50 reimplement\n",
    "class resnext50_reimplement(nn.Module):\n",
    "  def __init__(self, num_classes=10):\n",
    "    super().__init__()\n",
    "    self.conv1 = nn.Conv2d(3, 64, kernel_size=7, padding=3, stride=2, bias=False)\n",
    "    self.bn1 = nn.BatchNorm2d(64)\n",
    "    self.relu = nn.ReLU(inplace=True)\n",
    "    self.maxpool = nn.MaxPool2d(kernel_size=3, stride=2, dilation=1)\n",
    "    self.layer1 = self._make_layer(1)\n",
    "    self.layer2 = self._make_layer(2)\n",
    "    self.layer3 = self._make_layer(3)\n",
    "    self.layer4 = self._make_layer(4)\n",
    "    self.avgpool = nn.AdaptiveAvgPool2d((1, 1))\n",
    "    self.fc = nn.Linear(2048, num_classes)\n",
    "    self.softmax = nn.Softmax(dim=1)\n",
    "\n",
    "    for m in self.modules():\n",
    "      if isinstance(m, nn.Conv2d):\n",
    "          nn.init.kaiming_normal_(m.weight, mode='fan_out', nonlinearity='relu')\n",
    "      elif isinstance(m, (nn.BatchNorm2d)):\n",
    "          nn.init.ones_(m.weight)\n",
    "          nn.init.zeros_(m.bias)\n",
    "\n",
    "  def _make_layer(self, layer_num):\n",
    "    layer_sizes = [3, 4, 6, 3]\n",
    "    channel_sizes = [(64, 128, 256), (256, 256, 512), (512, 512, 1024), (1024, 1024, 2048)]\n",
    "\n",
    "    # init stride for layer\n",
    "    if layer_num == 1:\n",
    "      stride = 1\n",
    "    else:\n",
    "      stride = 2\n",
    "\n",
    "    # to fit to list position\n",
    "    layer_num -=  1\n",
    "\n",
    "    # downsample layer for residual connection\n",
    "    downsample = nn.Sequential(\n",
    "      conv1x1(channel_sizes[layer_num][0], channel_sizes[layer_num][2], stride=stride),\n",
    "      nn.BatchNorm2d(channel_sizes[layer_num][2])\n",
    "    )\n",
    "    \n",
    "    # generate first layer in each layer blocks\n",
    "    layers = []\n",
    "    layers.append(\n",
    "        Bottleneck(channel_sizes[layer_num][0], channel_sizes[layer_num][1], channel_sizes[layer_num][2], stride=stride, downsample=downsample)\n",
    "    )\n",
    "\n",
    "    # generate the rest of the layers\n",
    "    for _ in range(1, layer_sizes[layer_num]):\n",
    "      layers.append(\n",
    "          Bottleneck(channel_sizes[layer_num][2], channel_sizes[layer_num][1], channel_sizes[layer_num][2])\n",
    "      )\n",
    "\n",
    "    # return the layer block\n",
    "    return nn.Sequential(*layers)\n",
    "\n",
    "  def forward(self, x):\n",
    "    x = self.conv1(x)\n",
    "    x = self.bn1(x)\n",
    "    x = self.relu(x)\n",
    "    x = self.maxpool(x)\n",
    "\n",
    "    x = self.layer1(x)\n",
    "    x = self.layer2(x)\n",
    "    x = self.layer3(x)\n",
    "    x = self.layer4(x)\n",
    "\n",
    "    x = self.avgpool(x)\n",
    "    x = torch.flatten(x, 1)\n",
    "    x = self.fc(x)\n",
    "\n",
    "    #x = self.softmax(x)\n",
    "\n",
    "    return x\n",
    "\n",
    "# Resnext29 reimplement\n",
    "class resnext29_reimplement(nn.Module):\n",
    "  def __init__(self, num_classes=10):\n",
    "    super().__init__()\n",
    "    self.conv1 = nn.Conv2d(3, 64, kernel_size=3, padding=3, stride=2, bias=False)\n",
    "    self.bn1 = nn.BatchNorm2d(64)\n",
    "    self.relu = nn.ReLU(inplace=True)\n",
    "    self.maxpool = nn.MaxPool2d(kernel_size=3, stride=2, dilation=1)\n",
    "    self.layer1 = self._make_layer(1)\n",
    "    self.layer2 = self._make_layer(2)\n",
    "    self.layer3 = self._make_layer(3)\n",
    "    self.avgpool = nn.AdaptiveAvgPool2d((1, 1))\n",
    "    self.fc = nn.Linear(1024, num_classes)\n",
    "    self.softmax = nn.Softmax(dim=1)\n",
    "\n",
    "    for m in self.modules():\n",
    "      if isinstance(m, (nn.Conv2d, nn.Linear)):\n",
    "          nn.init.kaiming_normal_(m.weight)\n",
    "      elif isinstance(m, (nn.BatchNorm2d)):\n",
    "          nn.init.ones_(m.weight)\n",
    "          nn.init.zeros_(m.bias)\n",
    "\n",
    "  def _make_layer(self, layer_num):\n",
    "    layer_sizes = [3, 3, 3]\n",
    "    channel_sizes = [(64, 64, 256), (256, 256, 512), (512, 512, 1024)]\n",
    "\n",
    "    # init stride for layer\n",
    "    if layer_num == 1:\n",
    "      stride = 1\n",
    "    else:\n",
    "      stride = 2\n",
    "\n",
    "    # to fit to list position\n",
    "    layer_num -=  1\n",
    "\n",
    "    # downsample layer for residual connection\n",
    "    downsample = nn.Sequential(\n",
    "      conv1x1(channel_sizes[layer_num][0], channel_sizes[layer_num][2], stride=stride),\n",
    "      nn.BatchNorm2d(channel_sizes[layer_num][2])\n",
    "    )\n",
    "    \n",
    "    # generate first layer in each layer blocks\n",
    "    layers = []\n",
    "    layers.append(\n",
    "        Bottleneck(channel_sizes[layer_num][0], channel_sizes[layer_num][1], channel_sizes[layer_num][2], stride=stride, downsample=downsample)\n",
    "    )\n",
    "\n",
    "    # generate the rest of the layers\n",
    "    for _ in range(1, layer_sizes[layer_num]):\n",
    "      layers.append(\n",
    "          Bottleneck(channel_sizes[layer_num][2], channel_sizes[layer_num][1], channel_sizes[layer_num][2])\n",
    "      )\n",
    "\n",
    "    # return the layer block\n",
    "    return nn.Sequential(*layers)\n",
    "\n",
    "  def forward(self, x):\n",
    "    x = self.conv1(x)\n",
    "    x = self.bn1(x)\n",
    "    x = self.relu(x)\n",
    "    x = self.maxpool(x)\n",
    "\n",
    "    x = self.layer1(x)\n",
    "    x = self.layer2(x)\n",
    "    x = self.layer3(x)\n",
    "\n",
    "    x = self.avgpool(x)\n",
    "    x = torch.flatten(x, 1)\n",
    "    x = self.fc(x)\n",
    "\n",
    "    #x = self.softmax(x)\n",
    "\n",
    "    return x"
   ]
  },
  {
   "cell_type": "code",
   "execution_count": 6,
   "metadata": {
    "cellView": "form",
    "id": "QM7Yum3SHE2c"
   },
   "outputs": [],
   "source": [
    "#@title\n",
    "# Random model for debug\n",
    "class Net(nn.Module):\n",
    "  def __init__(self):\n",
    "    super().__init__()\n",
    "    self.relu = nn.ReLU(inplace=True)\n",
    "    self.conv1 = nn.Conv2d(3, 256, kernel_size=3, bias=False)\n",
    "    self.bn1 = nn.BatchNorm2d(256)\n",
    "\n",
    "    self.conv2 = nn.Conv2d(256, 256, kernel_size=3, bias=False)\n",
    "    self.bn2 = nn.BatchNorm2d(256)\n",
    "\n",
    "    self.conv3 = nn.Conv2d(256, 512, kernel_size=3, bias=False)\n",
    "    self.bn3 = nn.BatchNorm2d(512)\n",
    "\n",
    "    self.conv4 = nn.Conv2d(512, 512, kernel_size=3, bias=False)\n",
    "    self.bn4 = nn.BatchNorm2d(512)\n",
    "\n",
    "    self.avgpool = nn.AdaptiveAvgPool2d((1, 1))\n",
    "    self.fc = nn.Linear(512, 2)\n",
    "\n",
    "  def forward(self, x):\n",
    "    x = self.conv1(x)\n",
    "    x = self.bn1(x)\n",
    "    x = self.relu(x)\n",
    "\n",
    "    x = self.conv2(x)\n",
    "    x = self.bn2(x)\n",
    "    x = self.relu(x)\n",
    "\n",
    "    x = self.conv3(x)\n",
    "    x = self.bn3(x)\n",
    "    x = self.relu(x)\n",
    "\n",
    "    x = self.conv4(x)\n",
    "    x = self.bn4(x)\n",
    "    x = self.relu(x)\n",
    "    \n",
    "    x = self.avgpool(x)\n",
    "    x = torch.flatten(x, 1)\n",
    "    x = self.fc(x)\n",
    "  \n",
    "    return x"
   ]
  },
  {
   "cell_type": "code",
   "execution_count": 7,
   "metadata": {
    "id": "UOydljhQHIM0"
   },
   "outputs": [],
   "source": [
    "# Create the model\n",
    "# define a model\n",
    "random_model = Net()\n",
    "\n",
    "# define reimplement model\n",
    "pikachu_resnext50_reimplement_model = resnext50_reimplement(num_classes=2)\n",
    "cifar10_resnext29_reimplement_model = resnext29_reimplement(num_classes=10)\n",
    "\n",
    "import torchvision.models as models\n",
    "\n",
    "# build the network for pikachu\n",
    "pikachu_resnext50_model = models.resnext50_32x4d()\n",
    "in_c = pikachu_resnext50_model.fc.in_features\n",
    "pikachu_resnext50_model.fc = nn.Linear(in_c, 2)\n",
    "\n",
    "pikachu_resnet18_model = models.resnet18()\n",
    "in_c = pikachu_resnet18_model.fc.in_features\n",
    "pikachu_resnet18_model.fc = nn.Linear(in_c, 2)\n",
    "\n",
    "# build the network for CIFAR-10\n",
    "cifar10_resnet18_model = models.resnet18()\n",
    "in_c = cifar10_resnet18_model.fc.in_features\n",
    "cifar10_resnet18_model.fc = nn.Linear(in_c, 10)\n"
   ]
  },
  {
   "cell_type": "markdown",
   "metadata": {
    "id": "WxhYV9rSJSot"
   },
   "source": [
    "**View Stat**\n",
    "\n",
    "Modify the selected_num value to select over different stat of model\n",
    "\n",
    "0 - ResNext29 reimplementation cifar10 <br>\n",
    "1 - ResNet18 cifar10 <br>\n",
    "2 - Random model for pikachu dataset <br>\n",
    "3 - ResNet18 for pikachu dataset <br>\n",
    "4 - ResNext50 for pikachu dataset <br>\n",
    "5 - ResNext50 Reimplementation for pikachu dataset <br>"
   ]
  },
  {
   "cell_type": "code",
   "execution_count": 8,
   "metadata": {
    "id": "3GXX1kokJmmh"
   },
   "outputs": [],
   "source": [
    "dataset_desc = [\n",
    "                'cifar10_dataset', \n",
    "                'resnet_cifar10_dataset', \n",
    "                'random_model_pikachu_dataset',\n",
    "                'resnet18_pikachu_dataset',\n",
    "                'resnext50_pikachu_dataset',\n",
    "                'resnext50_reimplementation_pikachu_dataset'\n",
    "                ]"
   ]
  },
  {
   "cell_type": "code",
   "execution_count": 9,
   "metadata": {
    "id": "zTzvNSLkH2P0"
   },
   "outputs": [
    {
     "data": {
      "image/png": "[encoded data removed]",
      "text/plain": [
       "<Figure size 432x288 with 1 Axes>"
      ]
     },
     "metadata": {
      "needs_background": "light"
     },
     "output_type": "display_data"
    },
    {
     "data": {
      "image/png": "[encoded data removed]",
      "text/plain": [
       "<Figure size 432x288 with 1 Axes>"
      ]
     },
     "metadata": {
      "needs_background": "light"
     },
     "output_type": "display_data"
    }
   ],
   "source": [
    "# To view stat for the specific model\n",
    "# Modify the value of selected_num to select the model\n",
    "selected_num = 5\n",
    "accuracy_stat, loss_stat = load_stat(dataset_desc[selected_num])\n",
    "\n",
    "# Plot Accuracy Graph\n",
    "plt.title(\"Accuracy Graph\")\n",
    "plt.plot(accuracy_stat[\"val\"], label='Validation Accuracy')\n",
    "plt.plot(accuracy_stat[\"train\"], label='Training Accuracy')\n",
    "plt.legend()\n",
    "plt.show()\n",
    "\n",
    "# Plot Loss Graph\n",
    "plt.title(\"Loss Graph\")\n",
    "plt.plot(loss_stat[\"val\"], label='Validation Loss')\n",
    "plt.plot(loss_stat[\"train\"], label='Training Loss')\n",
    "plt.legend()\n",
    "plt.show()"
   ]
  },
  {
   "cell_type": "markdown",
   "metadata": {
    "id": "HR9-N4CzJW0v"
   },
   "source": [
    "**Run the model**"
   ]
  },
  {
   "cell_type": "code",
   "execution_count": 10,
   "metadata": {
    "id": "O0_DE5dzMmNL"
   },
   "outputs": [],
   "source": [
    "# Helper Function to test the model\n",
    "# type - pikachu, cifar10\n",
    "\n",
    "def test_model(model, image_path=\"pikachu.jpg\", type=\"pikachu\"):\n",
    "  # Preprocess the image\n",
    "  image = Image.open(image_path).convert('RGB')\n",
    "  \n",
    "  # Set model for evaluation mode\n",
    "  model.eval()\n",
    "    \n",
    "  if type == \"pikachu\":\n",
    "    transform = transforms.Compose([\n",
    "      transforms.Resize((224, 224)),\n",
    "      transforms.ToTensor(),\n",
    "      transforms.Normalize((0.5, 0.5, 0.5), (0.5, 0.5, 0.5))\n",
    "    ])\n",
    "    \n",
    "    classes = ['not_pikachu', 'pikachu']\n",
    "    \n",
    "  elif type == \"cifar10\":\n",
    "    transform = transforms.Compose([\n",
    "      transforms.Resize((32, 32)),\n",
    "      transforms.ToTensor(),\n",
    "      transforms.Normalize((0.5, 0.5, 0.5), (0.5, 0.5, 0.5))\n",
    "    ])\n",
    "    \n",
    "    classes = ['plane', 'car', 'bird', 'cat', 'deer', 'dog', 'frog', 'horse', 'ship', 'truck']\n",
    "    \n",
    "  else:\n",
    "    print(\"Invalid type\")\n",
    "    return\n",
    "\n",
    "  image_tensor = transform(image)\n",
    "  image_tensor = image_tensor[np.newaxis, :] \n",
    "\n",
    "  outs = model(image_tensor)\n",
    "  _, result = torch.max(outs, 1)\n",
    "\n",
    "  print(f\"The image is {classes[result]}\")\n"
   ]
  },
  {
   "cell_type": "code",
   "execution_count": 12,
   "metadata": {
    "id": "UGszV1c1JcJy"
   },
   "outputs": [
    {
     "name": "stdout",
     "output_type": "stream",
     "text": [
      "The image is pikachu\n"
     ]
    }
   ],
   "source": [
    "# Select one of the model in below to run\n",
    "# To run another model copy the desired model from below, replace the parameter of load model function\n",
    "# The epoch num start with 0\n",
    "\n",
    "###################################################\n",
    "# cifar10_resnext29_reimplement_model, dataset_desc[0], epoch_num=62\n",
    "# cifar10_resnet18_model, dataset_desc[1], epoch_num=101\n",
    "# random_model, dataset_desc[2], epoch_num=9\n",
    "# pikachu_resnet18_model, dataset_desc[3], epoch_num=19\n",
    "# pikachu_resnext50_model, dataset_desc[4], epoch_num=19\n",
    "# pikachu_resnext50_reimplement_model, dataset_desc[5], epoch_num=19\n",
    "###################################################\n",
    "\n",
    "# load_model(cifar10_resnext29_reimplement_model, dataset_desc[0], epoch_num=62)\n",
    "# load_model(cifar10_resnet18_model, dataset_desc[1], epoch_num=101)\n",
    "# load_model(random_model, dataset_desc[2], epoch_num=9)\n",
    "# load_model(pikachu_resnet18_model, dataset_desc[3], epoch_num=19)\n",
    "# load_model(pikachu_resnext50_model, dataset_desc[4], epoch_num=19)\n",
    "load_model(pikachu_resnext50_reimplement_model, dataset_desc[5], epoch_num=19)\n",
    "\n",
    "# To test with your own image, just copy the image into same directory with this file\n",
    "# and change the image path parameter to your filename\n",
    "test_model(pikachu_resnext50_reimplement_model, \"pikachu.jpg\")\n",
    "# test_model(pikachu_resnext50_model, \"dog.jpg\", type=\"cifar10\")"
   ]
  },
  {
   "cell_type": "code",
   "execution_count": null,
   "metadata": {},
   "outputs": [],
   "source": []
  }
 ],
 "metadata": {
  "colab": {
   "name": "Application.ipynb",
   "provenance": []
  },
  "kernelspec": {
   "display_name": "Python 3",
   "language": "python",
   "name": "python3"
  },
  "language_info": {
   "codemirror_mode": {
    "name": "ipython",
    "version": 3
   },
   "file_extension": ".py",
   "mimetype": "text/x-python",
   "name": "python",
   "nbconvert_exporter": "python",
   "pygments_lexer": "ipython3",
   "version": "3.7.10"
  }
 },
 "nbformat": 4,
 "nbformat_minor": 1
}
